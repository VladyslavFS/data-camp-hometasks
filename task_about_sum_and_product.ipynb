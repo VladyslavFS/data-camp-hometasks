{
 "cells": [
  {
   "cell_type": "code",
   "id": "initial_id",
   "metadata": {
    "collapsed": true,
    "ExecuteTime": {
     "end_time": "2025-04-26T03:31:41.779507Z",
     "start_time": "2025-04-26T03:31:41.113009Z"
    }
   },
   "source": "import pandas as pd",
   "outputs": [],
   "execution_count": 1
  },
  {
   "metadata": {
    "ExecuteTime": {
     "end_time": "2025-04-26T03:31:41.833770Z",
     "start_time": "2025-04-26T03:31:41.825972Z"
    }
   },
   "cell_type": "code",
   "source": [
    "def is_prime(num):\n",
    "    if num < 2:\n",
    "        return False\n",
    "    for i in range(2, int(num**0.5) + 1):\n",
    "        if num % i == 0:\n",
    "            return False\n",
    "    return True"
   ],
   "id": "8b238df779ab7c94",
   "outputs": [],
   "execution_count": 2
  },
  {
   "metadata": {
    "ExecuteTime": {
     "end_time": "2025-04-26T03:31:41.930733Z",
     "start_time": "2025-04-26T03:31:41.919729Z"
    }
   },
   "cell_type": "code",
   "source": [
    "# Створення списку усіх можливих пар чисел від 2 до 99\n",
    "numbers = [(a, b) for a in range(2, 100) for b in range(a, 100)]\n",
    "\n",
    "# Розраховування суми і добутку для кожної пари\n",
    "sums = [sum(pair) for pair in numbers]\n",
    "products = [pair[0]*pair[1] for pair in numbers]\n",
    "\n",
    "df = pd.DataFrame({'number': numbers, 'sum': sums, 'product': products})"
   ],
   "id": "49deaa39796ae303",
   "outputs": [],
   "execution_count": 3
  },
  {
   "metadata": {
    "ExecuteTime": {
     "end_time": "2025-04-26T03:31:42.009627Z",
     "start_time": "2025-04-26T03:31:41.969192Z"
    }
   },
   "cell_type": "code",
   "source": [
    "df = df[df['sum'] % 2 != 0]\n",
    "df = df[df['sum'] <= 55]\n",
    "df = df[~(df['sum'] - 2).apply(is_prime)]\n",
    "\n",
    "for i, j in df['number']:\n",
    "    if (is_prime(i) == False and is_prime(j) == False) or (is_prime(i) == True and is_prime(j) == True):\n",
    "        df = df.drop(df[df['number'] == (i,j)].index)"
   ],
   "id": "250a64ccea45c43b",
   "outputs": [],
   "execution_count": 4
  },
  {
   "metadata": {
    "ExecuteTime": {
     "end_time": "2025-04-26T03:31:42.034993Z",
     "start_time": "2025-04-26T03:31:42.024852Z"
    }
   },
   "cell_type": "code",
   "source": [
    "df = df.drop_duplicates(subset=['product'], keep=False)\n",
    "df = df.drop_duplicates(subset=['sum'], keep=False)\n",
    "df['number']"
   ],
   "id": "580dffaa75e912c7",
   "outputs": [
    {
     "data": {
      "text/plain": [
       "204    (4, 13)\n",
       "Name: number, dtype: object"
      ]
     },
     "execution_count": 5,
     "metadata": {},
     "output_type": "execute_result"
    }
   ],
   "execution_count": 5
  }
 ],
 "metadata": {
  "kernelspec": {
   "display_name": "Python 3",
   "language": "python",
   "name": "python3"
  },
  "language_info": {
   "codemirror_mode": {
    "name": "ipython",
    "version": 2
   },
   "file_extension": ".py",
   "mimetype": "text/x-python",
   "name": "python",
   "nbconvert_exporter": "python",
   "pygments_lexer": "ipython2",
   "version": "2.7.6"
  }
 },
 "nbformat": 4,
 "nbformat_minor": 5
}

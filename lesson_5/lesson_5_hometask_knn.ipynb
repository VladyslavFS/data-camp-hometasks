{
 "cells": [
  {
   "cell_type": "code",
   "id": "initial_id",
   "metadata": {
    "collapsed": true,
    "ExecuteTime": {
     "end_time": "2025-04-26T03:02:29.424907Z",
     "start_time": "2025-04-26T03:02:29.418910Z"
    }
   },
   "source": [
    "from sklearn.metrics import classification_report\n",
    "from sklearn.model_selection import train_test_split\n",
    "import pandas as pd\n",
    "import numpy as np\n",
    "from sklearn.datasets import load_iris\n",
    "from sklearn.neighbors import KNeighborsClassifier\n",
    "from sklearn import metrics\n",
    "import matplotlib.pyplot as plt\n",
    "import math"
   ],
   "outputs": [],
   "execution_count": 115
  },
  {
   "metadata": {
    "ExecuteTime": {
     "end_time": "2025-04-26T02:59:40.018990Z",
     "start_time": "2025-04-26T02:59:39.995963Z"
    }
   },
   "cell_type": "code",
   "source": [
    "np.random.seed = 42\n",
    "iris = load_iris()\n",
    "print ('data contains:',iris.keys())\n",
    "X, y, labels, feature_names  = iris.data, iris.target, iris.target_names, iris['feature_names']\n",
    "df_iris= pd.DataFrame(X, columns= feature_names)\n",
    "df_iris['label'] =  y\n",
    "features_dict = {k:v for k,v in  enumerate(labels)}\n",
    "df_iris['label_names'] = df_iris.label.apply(lambda x: features_dict[x])\n",
    "df_iris"
   ],
   "id": "21871543933b99e7",
   "outputs": [
    {
     "name": "stdout",
     "output_type": "stream",
     "text": [
      "data contains: dict_keys(['data', 'target', 'frame', 'target_names', 'DESCR', 'feature_names', 'filename', 'data_module'])\n"
     ]
    },
    {
     "data": {
      "text/plain": [
       "     sepal length (cm)  sepal width (cm)  petal length (cm)  petal width (cm)  \\\n",
       "0                  5.1               3.5                1.4               0.2   \n",
       "1                  4.9               3.0                1.4               0.2   \n",
       "2                  4.7               3.2                1.3               0.2   \n",
       "3                  4.6               3.1                1.5               0.2   \n",
       "4                  5.0               3.6                1.4               0.2   \n",
       "..                 ...               ...                ...               ...   \n",
       "145                6.7               3.0                5.2               2.3   \n",
       "146                6.3               2.5                5.0               1.9   \n",
       "147                6.5               3.0                5.2               2.0   \n",
       "148                6.2               3.4                5.4               2.3   \n",
       "149                5.9               3.0                5.1               1.8   \n",
       "\n",
       "     label label_names  \n",
       "0        0      setosa  \n",
       "1        0      setosa  \n",
       "2        0      setosa  \n",
       "3        0      setosa  \n",
       "4        0      setosa  \n",
       "..     ...         ...  \n",
       "145      2   virginica  \n",
       "146      2   virginica  \n",
       "147      2   virginica  \n",
       "148      2   virginica  \n",
       "149      2   virginica  \n",
       "\n",
       "[150 rows x 6 columns]"
      ],
      "text/html": [
       "<div>\n",
       "<style scoped>\n",
       "    .dataframe tbody tr th:only-of-type {\n",
       "        vertical-align: middle;\n",
       "    }\n",
       "\n",
       "    .dataframe tbody tr th {\n",
       "        vertical-align: top;\n",
       "    }\n",
       "\n",
       "    .dataframe thead th {\n",
       "        text-align: right;\n",
       "    }\n",
       "</style>\n",
       "<table border=\"1\" class=\"dataframe\">\n",
       "  <thead>\n",
       "    <tr style=\"text-align: right;\">\n",
       "      <th></th>\n",
       "      <th>sepal length (cm)</th>\n",
       "      <th>sepal width (cm)</th>\n",
       "      <th>petal length (cm)</th>\n",
       "      <th>petal width (cm)</th>\n",
       "      <th>label</th>\n",
       "      <th>label_names</th>\n",
       "    </tr>\n",
       "  </thead>\n",
       "  <tbody>\n",
       "    <tr>\n",
       "      <th>0</th>\n",
       "      <td>5.1</td>\n",
       "      <td>3.5</td>\n",
       "      <td>1.4</td>\n",
       "      <td>0.2</td>\n",
       "      <td>0</td>\n",
       "      <td>setosa</td>\n",
       "    </tr>\n",
       "    <tr>\n",
       "      <th>1</th>\n",
       "      <td>4.9</td>\n",
       "      <td>3.0</td>\n",
       "      <td>1.4</td>\n",
       "      <td>0.2</td>\n",
       "      <td>0</td>\n",
       "      <td>setosa</td>\n",
       "    </tr>\n",
       "    <tr>\n",
       "      <th>2</th>\n",
       "      <td>4.7</td>\n",
       "      <td>3.2</td>\n",
       "      <td>1.3</td>\n",
       "      <td>0.2</td>\n",
       "      <td>0</td>\n",
       "      <td>setosa</td>\n",
       "    </tr>\n",
       "    <tr>\n",
       "      <th>3</th>\n",
       "      <td>4.6</td>\n",
       "      <td>3.1</td>\n",
       "      <td>1.5</td>\n",
       "      <td>0.2</td>\n",
       "      <td>0</td>\n",
       "      <td>setosa</td>\n",
       "    </tr>\n",
       "    <tr>\n",
       "      <th>4</th>\n",
       "      <td>5.0</td>\n",
       "      <td>3.6</td>\n",
       "      <td>1.4</td>\n",
       "      <td>0.2</td>\n",
       "      <td>0</td>\n",
       "      <td>setosa</td>\n",
       "    </tr>\n",
       "    <tr>\n",
       "      <th>...</th>\n",
       "      <td>...</td>\n",
       "      <td>...</td>\n",
       "      <td>...</td>\n",
       "      <td>...</td>\n",
       "      <td>...</td>\n",
       "      <td>...</td>\n",
       "    </tr>\n",
       "    <tr>\n",
       "      <th>145</th>\n",
       "      <td>6.7</td>\n",
       "      <td>3.0</td>\n",
       "      <td>5.2</td>\n",
       "      <td>2.3</td>\n",
       "      <td>2</td>\n",
       "      <td>virginica</td>\n",
       "    </tr>\n",
       "    <tr>\n",
       "      <th>146</th>\n",
       "      <td>6.3</td>\n",
       "      <td>2.5</td>\n",
       "      <td>5.0</td>\n",
       "      <td>1.9</td>\n",
       "      <td>2</td>\n",
       "      <td>virginica</td>\n",
       "    </tr>\n",
       "    <tr>\n",
       "      <th>147</th>\n",
       "      <td>6.5</td>\n",
       "      <td>3.0</td>\n",
       "      <td>5.2</td>\n",
       "      <td>2.0</td>\n",
       "      <td>2</td>\n",
       "      <td>virginica</td>\n",
       "    </tr>\n",
       "    <tr>\n",
       "      <th>148</th>\n",
       "      <td>6.2</td>\n",
       "      <td>3.4</td>\n",
       "      <td>5.4</td>\n",
       "      <td>2.3</td>\n",
       "      <td>2</td>\n",
       "      <td>virginica</td>\n",
       "    </tr>\n",
       "    <tr>\n",
       "      <th>149</th>\n",
       "      <td>5.9</td>\n",
       "      <td>3.0</td>\n",
       "      <td>5.1</td>\n",
       "      <td>1.8</td>\n",
       "      <td>2</td>\n",
       "      <td>virginica</td>\n",
       "    </tr>\n",
       "  </tbody>\n",
       "</table>\n",
       "<p>150 rows × 6 columns</p>\n",
       "</div>"
      ]
     },
     "execution_count": 105,
     "metadata": {},
     "output_type": "execute_result"
    }
   ],
   "execution_count": 105
  },
  {
   "metadata": {
    "ExecuteTime": {
     "end_time": "2025-04-26T02:59:40.108271Z",
     "start_time": "2025-04-26T02:59:40.100414Z"
    }
   },
   "cell_type": "code",
   "source": [
    "X_train, X_test, y_train, y_test = train_test_split(X, y, test_size=0.2, random_state=42)\n",
    "print(X_train.shape, X_test.shape, y_train.shape, y_test.shape)"
   ],
   "id": "3540f3df1c6eb5b6",
   "outputs": [
    {
     "name": "stdout",
     "output_type": "stream",
     "text": [
      "(120, 4) (30, 4) (120,) (30,)\n"
     ]
    }
   ],
   "execution_count": 106
  },
  {
   "metadata": {
    "ExecuteTime": {
     "end_time": "2025-04-26T02:59:40.717388Z",
     "start_time": "2025-04-26T02:59:40.190496Z"
    }
   },
   "cell_type": "code",
   "source": [
    "k_range = np.arange(1,100)\n",
    "scores = {}\n",
    "scores_list = []\n",
    "\n",
    "for k in k_range:\n",
    "    knn = KNeighborsClassifier(n_neighbors=k)\n",
    "    knn.fit(X_train, y_train)\n",
    "    y_pred = knn.predict(X_test)\n",
    "    scores[k] = metrics.accuracy_score(y_test, y_pred)\n",
    "    scores_list.append(metrics.accuracy_score(y_test, y_pred))"
   ],
   "id": "7ac05b7862ac31dd",
   "outputs": [],
   "execution_count": 107
  },
  {
   "metadata": {
    "ExecuteTime": {
     "end_time": "2025-04-26T02:59:40.753437Z",
     "start_time": "2025-04-26T02:59:40.745415Z"
    }
   },
   "cell_type": "code",
   "source": "scores",
   "id": "efc51c1e72e3034a",
   "outputs": [
    {
     "data": {
      "text/plain": [
       "{1: 1.0,\n",
       " 2: 1.0,\n",
       " 3: 1.0,\n",
       " 4: 1.0,\n",
       " 5: 1.0,\n",
       " 6: 1.0,\n",
       " 7: 0.9666666666666667,\n",
       " 8: 1.0,\n",
       " 9: 1.0,\n",
       " 10: 1.0,\n",
       " 11: 1.0,\n",
       " 12: 1.0,\n",
       " 13: 1.0,\n",
       " 14: 1.0,\n",
       " 15: 1.0,\n",
       " 16: 1.0,\n",
       " 17: 1.0,\n",
       " 18: 1.0,\n",
       " 19: 1.0,\n",
       " 20: 1.0,\n",
       " 21: 1.0,\n",
       " 22: 1.0,\n",
       " 23: 1.0,\n",
       " 24: 1.0,\n",
       " 25: 1.0,\n",
       " 26: 1.0,\n",
       " 27: 1.0,\n",
       " 28: 1.0,\n",
       " 29: 1.0,\n",
       " 30: 1.0,\n",
       " 31: 1.0,\n",
       " 32: 1.0,\n",
       " 33: 1.0,\n",
       " 34: 1.0,\n",
       " 35: 1.0,\n",
       " 36: 0.9666666666666667,\n",
       " 37: 1.0,\n",
       " 38: 0.9666666666666667,\n",
       " 39: 1.0,\n",
       " 40: 0.9666666666666667,\n",
       " 41: 1.0,\n",
       " 42: 1.0,\n",
       " 43: 1.0,\n",
       " 44: 0.9666666666666667,\n",
       " 45: 1.0,\n",
       " 46: 0.9666666666666667,\n",
       " 47: 0.9666666666666667,\n",
       " 48: 0.9666666666666667,\n",
       " 49: 0.9666666666666667,\n",
       " 50: 0.9666666666666667,\n",
       " 51: 0.9666666666666667,\n",
       " 52: 0.9666666666666667,\n",
       " 53: 0.9666666666666667,\n",
       " 54: 0.9666666666666667,\n",
       " 55: 0.9666666666666667,\n",
       " 56: 0.9666666666666667,\n",
       " 57: 0.9666666666666667,\n",
       " 58: 0.9666666666666667,\n",
       " 59: 0.9666666666666667,\n",
       " 60: 0.9666666666666667,\n",
       " 61: 0.9666666666666667,\n",
       " 62: 0.9666666666666667,\n",
       " 63: 0.9666666666666667,\n",
       " 64: 0.9666666666666667,\n",
       " 65: 0.9666666666666667,\n",
       " 66: 0.9666666666666667,\n",
       " 67: 0.9666666666666667,\n",
       " 68: 0.9666666666666667,\n",
       " 69: 0.9666666666666667,\n",
       " 70: 0.9666666666666667,\n",
       " 71: 0.9666666666666667,\n",
       " 72: 0.9666666666666667,\n",
       " 73: 0.9666666666666667,\n",
       " 74: 0.9666666666666667,\n",
       " 75: 0.9333333333333333,\n",
       " 76: 0.9666666666666667,\n",
       " 77: 0.9666666666666667,\n",
       " 78: 0.6333333333333333,\n",
       " 79: 0.6333333333333333,\n",
       " 80: 0.6333333333333333,\n",
       " 81: 0.6333333333333333,\n",
       " 82: 0.6333333333333333,\n",
       " 83: 0.6333333333333333,\n",
       " 84: 0.6333333333333333,\n",
       " 85: 0.6333333333333333,\n",
       " 86: 0.6333333333333333,\n",
       " 87: 0.6333333333333333,\n",
       " 88: 0.6,\n",
       " 89: 0.5666666666666667,\n",
       " 90: 0.5333333333333333,\n",
       " 91: 0.5333333333333333,\n",
       " 92: 0.4666666666666667,\n",
       " 93: 0.3,\n",
       " 94: 0.3,\n",
       " 95: 0.3,\n",
       " 96: 0.3,\n",
       " 97: 0.3,\n",
       " 98: 0.3,\n",
       " 99: 0.3}"
      ]
     },
     "execution_count": 108,
     "metadata": {},
     "output_type": "execute_result"
    }
   ],
   "execution_count": 108
  },
  {
   "metadata": {
    "ExecuteTime": {
     "end_time": "2025-04-26T02:59:40.933841Z",
     "start_time": "2025-04-26T02:59:40.796617Z"
    }
   },
   "cell_type": "code",
   "source": [
    "plt.figure()\n",
    "plt.plot(k_range, scores_list)\n",
    "plt.grid(True)\n",
    "plt.xlabel('k')\n",
    "plt.ylabel('accuracy')"
   ],
   "id": "eac976aff49a6abc",
   "outputs": [
    {
     "data": {
      "text/plain": [
       "Text(0, 0.5, 'accuracy')"
      ]
     },
     "execution_count": 109,
     "metadata": {},
     "output_type": "execute_result"
    },
    {
     "data": {
      "text/plain": [
       "<Figure size 640x480 with 1 Axes>"
      ],
      "image/png": "[encoded data removed]"
     },
     "metadata": {},
     "output_type": "display_data"
    }
   ],
   "execution_count": 109
  },
  {
   "metadata": {
    "ExecuteTime": {
     "end_time": "2025-04-26T03:03:49.610995Z",
     "start_time": "2025-04-26T03:03:49.602984Z"
    }
   },
   "cell_type": "code",
   "source": [
    "stable_k = math.sqrt(X_train.shape[0])\n",
    "stable_k"
   ],
   "id": "2e4a7253ccfa13ce",
   "outputs": [
    {
     "data": {
      "text/plain": [
       "10.954451150103322"
      ]
     },
     "execution_count": 121,
     "metadata": {},
     "output_type": "execute_result"
    }
   ],
   "execution_count": 121
  },
  {
   "metadata": {
    "ExecuteTime": {
     "end_time": "2025-04-26T03:05:03.245414Z",
     "start_time": "2025-04-26T03:05:03.233973Z"
    }
   },
   "cell_type": "code",
   "source": [
    "best_knn = KNeighborsClassifier(n_neighbors=math.ceil(stable_k))\n",
    "best_knn.fit(X_train, y_train)\n",
    "y_pred = best_knn.predict(X_test)"
   ],
   "id": "6e21409d3415a1ee",
   "outputs": [],
   "execution_count": 123
  },
  {
   "metadata": {
    "ExecuteTime": {
     "end_time": "2025-04-26T03:05:06.885039Z",
     "start_time": "2025-04-26T03:05:06.867650Z"
    }
   },
   "cell_type": "code",
   "source": "print(classification_report(y_test, y_pred))",
   "id": "b140852b595cd4bc",
   "outputs": [
    {
     "name": "stdout",
     "output_type": "stream",
     "text": [
      "              precision    recall  f1-score   support\n",
      "\n",
      "           0       1.00      1.00      1.00        10\n",
      "           1       1.00      1.00      1.00         9\n",
      "           2       1.00      1.00      1.00        11\n",
      "\n",
      "    accuracy                           1.00        30\n",
      "   macro avg       1.00      1.00      1.00        30\n",
      "weighted avg       1.00      1.00      1.00        30\n",
      "\n"
     ]
    }
   ],
   "execution_count": 124
  }
 ],
 "metadata": {
  "kernelspec": {
   "display_name": "Python 3",
   "language": "python",
   "name": "python3"
  },
  "language_info": {
   "codemirror_mode": {
    "name": "ipython",
    "version": 2
   },
   "file_extension": ".py",
   "mimetype": "text/x-python",
   "name": "python",
   "nbconvert_exporter": "python",
   "pygments_lexer": "ipython2",
   "version": "2.7.6"
  }
 },
 "nbformat": 4,
 "nbformat_minor": 5
}
